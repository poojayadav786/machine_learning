{
  "nbformat": 4,
  "nbformat_minor": 0,
  "metadata": {
    "colab": {
      "name": "Assignmenet_3.ipynb",
      "version": "0.3.2",
      "provenance": []
    },
    "kernelspec": {
      "name": "python3",
      "display_name": "Python 3"
    }
  },
  "cells": [
    {
      "cell_type": "markdown",
      "metadata": {
        "id": "view-in-github",
        "colab_type": "text"
      },
      "source": [
        "[View in Colaboratory](https://colab.research.google.com/github/poojayadav786/machine_learning/blob/master/Assignmenet_3.ipynb)"
      ]
    },
    {
      "metadata": {
        "id": "shCvIg5oIE7W",
        "colab_type": "text"
      },
      "cell_type": "markdown",
      "source": [
        ""
      ]
    },
    {
      "metadata": {
        "id": "5xSnb-hcJ9sY",
        "colab_type": "text"
      },
      "cell_type": "markdown",
      "source": [
        "**Question_1**"
      ]
    },
    {
      "metadata": {
        "id": "PnSjnk3kH4Qe",
        "colab_type": "code",
        "colab": {}
      },
      "cell_type": "code",
      "source": [
        "def prob(a,b,a_b):\n",
        "  b_a=(a_b*b)/a\n",
        "  return b_a"
      ],
      "execution_count": 0,
      "outputs": []
    },
    {
      "metadata": {
        "id": "ytwIozDCH5aZ",
        "colab_type": "code",
        "colab": {
          "base_uri": "https://localhost:8080/",
          "height": 34
        },
        "outputId": "cdb6d1b3-007a-454a-ffb0-fe39fd8bd2b0"
      },
      "cell_type": "code",
      "source": [
        "prob(11/36,6/36,2/36)"
      ],
      "execution_count": 11,
      "outputs": [
        {
          "output_type": "execute_result",
          "data": {
            "text/plain": [
              "0.0303030303030303"
            ]
          },
          "metadata": {
            "tags": []
          },
          "execution_count": 11
        }
      ]
    },
    {
      "metadata": {
        "id": "qiFYzvbjKJVv",
        "colab_type": "text"
      },
      "cell_type": "markdown",
      "source": [
        "**Question_2**"
      ]
    },
    {
      "metadata": {
        "id": "gwoIBa8JKZHB",
        "colab_type": "code",
        "colab": {
          "base_uri": "https://localhost:8080/",
          "height": 34
        },
        "outputId": "121e8330-0bfe-414f-c502-f3d51770a8d2"
      },
      "cell_type": "code",
      "source": [
        "print (\"answer is:7/12\")"
      ],
      "execution_count": 6,
      "outputs": [
        {
          "output_type": "stream",
          "text": [
            "answer is:7/12\n"
          ],
          "name": "stdout"
        }
      ]
    },
    {
      "metadata": {
        "id": "r_ulaZYaMH5I",
        "colab_type": "text"
      },
      "cell_type": "markdown",
      "source": [
        "**Question_3**"
      ]
    },
    {
      "metadata": {
        "id": "-0kA5SoXMMx4",
        "colab_type": "code",
        "colab": {
          "base_uri": "https://localhost:8080/",
          "height": 34
        },
        "outputId": "4e7fe0d8-25db-4bf2-bdb5-174a0debf413"
      },
      "cell_type": "code",
      "source": [
        "print(\"answer is:2/7\")"
      ],
      "execution_count": 7,
      "outputs": [
        {
          "output_type": "stream",
          "text": [
            "answer is:2/7\n"
          ],
          "name": "stdout"
        }
      ]
    },
    {
      "metadata": {
        "id": "6cIqB9cWMRR1",
        "colab_type": "code",
        "colab": {}
      },
      "cell_type": "code",
      "source": [
        ""
      ],
      "execution_count": 0,
      "outputs": []
    }
  ]
}